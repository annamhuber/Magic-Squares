{
 "cells": [
  {
   "cell_type": "markdown",
   "metadata": {
    "pycharm": {}
   },
   "source": [
    "# Magic Square Puzzle"
   ]
  },
  {
   "cell_type": "markdown",
   "metadata": {
    "pycharm": {}
   },
   "source": [
    "A magic square is an arrangement of distinct integers in a square grid, such that the values in each row, in each\n",
    "column and in the two main diagonals all add up to the same number. If n denotes the number of cells,\n",
    "the values 1 to n are to be distributed."
   ]
  },
  {
   "cell_type": "markdown",
   "metadata": {
    "pycharm": {}
   },
   "source": [
    "Imports"
   ]
  },
  {
   "cell_type": "code",
   "execution_count": 1,
   "metadata": {
    "lines_to_next_cell": 1,
    "pycharm": {
     "is_executing": false
    }
   },
   "outputs": [],
   "source": [
    "from ortools.constraint_solver import pywrapcp\n",
    "from itertools import product\n",
    "import numpy as np"
   ]
  },
  {
   "cell_type": "markdown",
   "metadata": {
    "pycharm": {}
   },
   "source": [
    "Pretty-print square board"
   ]
  },
  {
   "cell_type": "code",
   "execution_count": 2,
   "metadata": {
    "lines_to_next_cell": 1,
    "pycharm": {}
   },
   "outputs": [],
   "source": [
    "def pretty_print(board):\n",
    "    for i in range(len(board)):\n",
    "        for j in range(len(board)):\n",
    "            print(\"[{}] \".format(board[i][j].Value()), end='')\n",
    "        print(\"\\n\")\n",
    "    print(\"\\n\\n\")"
   ]
  },
  {
   "cell_type": "markdown",
   "metadata": {
    "pycharm": {}
   },
   "source": [
    "Define magic square size"
   ]
  },
  {
   "cell_type": "code",
   "execution_count": 3,
   "metadata": {
    "pycharm": {}
   },
   "outputs": [],
   "source": [
    "n = 3"
   ]
  },
  {
   "cell_type": "markdown",
   "metadata": {
    "pycharm": {}
   },
   "source": [
    "Create constraint solver"
   ]
  },
  {
   "cell_type": "code",
   "execution_count": 4,
   "metadata": {
    "pycharm": {}
   },
   "outputs": [],
   "source": [
    "solver = pywrapcp.Solver(\"Magic Square\")"
   ]
  },
  {
   "cell_type": "code",
   "execution_count": 5,
   "metadata": {
    "pycharm": {}
   },
   "outputs": [],
   "source": [
    "# Type your model here ..."
   ]
  },
  {
   "cell_type": "markdown",
   "metadata": {
    "pycharm": {}
   },
   "source": [
    "Configure solver"
   ]
  },
  {
   "cell_type": "code",
   "execution_count": 6,
   "metadata": {
    "pycharm": {}
   },
   "outputs": [],
   "source": [
    "# Replace this by a list of all decision variables\n",
    "board = [[solver.IntVar(1, 9) for _j in range(n)] for _i in range(n)]\n",
    "checksum = solver.Sum([board[0][j] for j in range(n)]).Var()\n",
    "# Constraints\n",
    "solver.Add(solver.AllDifferent(list(np.concatenate(board))))\n",
    "for i in range(n):\n",
    "    solver.Add(solver.Sum([board[i][j] for j in range(n)]) == checksum) # Summe für Spalte\n",
    "    solver.Add(solver.Sum([board[j][i] for j in range(n)]) == checksum) # Summe für Zeile\n",
    "    solver.Add(solver.Sum([board[j][j] for j in range(n)]) == checksum) # Summe für diagonale oben links - unten rechts\n",
    "    solver.Add(solver.Sum([board[(n-1)-j][j] for j in range(n)]) == checksum) # Summe für diagonale unten links - oben rechts\n",
    "\n",
    "db = solver.Phase(list(np.concatenate(board)), solver.INT_VAR_SIMPLE, solver.INT_VALUE_SIMPLE)"
   ]
  },
  {
   "cell_type": "markdown",
   "metadata": {
    "pycharm": {}
   },
   "source": [
    "Start solver"
   ]
  },
  {
   "cell_type": "code",
   "execution_count": 10,
   "metadata": {
    "pycharm": {}
   },
   "outputs": [
    {
     "name": "stdout",
     "output_type": "stream",
     "text": [
      "[2] [7] [6] \n",
      "\n",
      "[9] [5] [1] \n",
      "\n",
      "[4] [3] [8] \n",
      "\n",
      "\n",
      "\n",
      "\n",
      "[2] [9] [4] \n",
      "\n",
      "[7] [5] [3] \n",
      "\n",
      "[6] [1] [8] \n",
      "\n",
      "\n",
      "\n",
      "\n",
      "[4] [3] [8] \n",
      "\n",
      "[9] [5] [1] \n",
      "\n",
      "[2] [7] [6] \n",
      "\n",
      "\n",
      "\n",
      "\n",
      "[4] [9] [2] \n",
      "\n",
      "[3] [5] [7] \n",
      "\n",
      "[8] [1] [6] \n",
      "\n",
      "\n",
      "\n",
      "\n",
      "[6] [1] [8] \n",
      "\n",
      "[7] [5] [3] \n",
      "\n",
      "[2] [9] [4] \n",
      "\n",
      "\n",
      "\n",
      "\n",
      "[6] [7] [2] \n",
      "\n",
      "[1] [5] [9] \n",
      "\n",
      "[8] [3] [4] \n",
      "\n",
      "\n",
      "\n",
      "\n",
      "[8] [1] [6] \n",
      "\n",
      "[3] [5] [7] \n",
      "\n",
      "[4] [9] [2] \n",
      "\n",
      "\n",
      "\n",
      "\n",
      "[8] [3] [4] \n",
      "\n",
      "[1] [5] [9] \n",
      "\n",
      "[6] [7] [2] \n",
      "\n",
      "\n",
      "\n",
      "\n"
     ]
    }
   ],
   "source": [
    "solver.NewSearch(db)\n",
    "while solver.NextSolution():\n",
    "    pretty_print(board)"
   ]
  },
  {
   "cell_type": "markdown",
   "metadata": {
    "pycharm": {}
   },
   "source": [
    "Cleanup"
   ]
  },
  {
   "cell_type": "code",
   "execution_count": 11,
   "metadata": {
    "pycharm": {}
   },
   "outputs": [],
   "source": [
    "solver.EndSearch()"
   ]
  },
  {
   "cell_type": "markdown",
   "metadata": {
    "pycharm": {}
   },
   "source": [
    "Print solver information"
   ]
  },
  {
   "cell_type": "code",
   "execution_count": 12,
   "metadata": {
    "pycharm": {}
   },
   "outputs": [
    {
     "name": "stdout",
     "output_type": "stream",
     "text": [
      "Solutions: 8\n",
      "Runtime:   28789ms\n",
      "Failures:  885\n",
      "Branches:  1812 \n"
     ]
    }
   ],
   "source": [
    "print(\"Solutions: {}\".format(solver.Solutions()))\n",
    "print(\"Runtime:   {}ms\".format(solver.WallTime()))\n",
    "print(\"Failures:  {}\".format(solver.Failures()))\n",
    "print(\"Branches:  {} \".format(solver.Branches()))"
   ]
  },
  {
   "cell_type": "code",
   "execution_count": null,
   "metadata": {},
   "outputs": [],
   "source": []
  }
 ],
 "metadata": {
  "jupytext": {
   "cell_metadata_filter": "-all",
   "main_language": "python",
   "notebook_metadata_filter": "-all",
   "text_representation": {
    "extension": ".py",
    "format_name": "percent"
   }
  },
  "kernelspec": {
   "display_name": "Python 3",
   "language": "python",
   "name": "python3"
  },
  "language_info": {
   "codemirror_mode": {
    "name": "ipython",
    "version": 3
   },
   "file_extension": ".py",
   "mimetype": "text/x-python",
   "name": "python",
   "nbconvert_exporter": "python",
   "pygments_lexer": "ipython3",
   "version": "3.6.4"
  }
 },
 "nbformat": 4,
 "nbformat_minor": 2
}
